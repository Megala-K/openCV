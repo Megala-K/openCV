{
 "cells": [
  {
   "cell_type": "code",
   "execution_count": 8,
   "id": "d0dd5d3f",
   "metadata": {},
   "outputs": [
    {
     "data": {
      "text/plain": [
       "107"
      ]
     },
     "execution_count": 8,
     "metadata": {},
     "output_type": "execute_result"
    }
   ],
   "source": [
    "import cv2 \n",
    "  \n",
    "# Reading the image \n",
    "img = cv2.imread(r\"C:\\Users\\MEGALA\\Desktop\\Megala\\Sample data\\group1.jpeg\") \n",
    "  \n",
    "# Converting image to grayscale \n",
    "gray_img = cv2.cvtColor(img, cv2.COLOR_BGR2GRAY) \n",
    "  \n",
    "# Loading the required haar-cascade xml classifier file \n",
    "haar_cascade = cv2.CascadeClassifier(r\"C:\\Users\\MEGALA\\Desktop\\Megala\\project\\haarcascade_frontalface_default.xml\") \n",
    "  \n",
    "# Applying the face detection method on the grayscale image \n",
    "faces_rect = haar_cascade.detectMultiScale(gray_img, scaleFactor=1.1, minNeighbors=9)  \n",
    "  \n",
    "# Iterating through rectangles of detected faces \n",
    "for (x, y, w, h) in faces_rect: \n",
    "    cv2.rectangle(img, (x, y), (x+w, y+h), (0, 255, 0), 2) \n",
    "  \n",
    "cv2.imshow('Detected faces', img) \n",
    "  \n",
    "cv2.waitKey(0) "
   ]
  },
  {
   "cell_type": "code",
   "execution_count": null,
   "id": "ff42ea4e",
   "metadata": {},
   "outputs": [],
   "source": []
  }
 ],
 "metadata": {
  "kernelspec": {
   "display_name": "Python 3 (ipykernel)",
   "language": "python",
   "name": "python3"
  },
  "language_info": {
   "codemirror_mode": {
    "name": "ipython",
    "version": 3
   },
   "file_extension": ".py",
   "mimetype": "text/x-python",
   "name": "python",
   "nbconvert_exporter": "python",
   "pygments_lexer": "ipython3",
   "version": "3.11.7"
  }
 },
 "nbformat": 4,
 "nbformat_minor": 5
}
